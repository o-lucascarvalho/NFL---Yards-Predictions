{
  "cells": [
    {
      "cell_type": "markdown",
      "source": [
        "#Bibliotecas\n"
      ],
      "metadata": {
        "id": "e8Z0_RHtuWmQ"
      },
      "id": "e8Z0_RHtuWmQ"
    },
    {
      "cell_type": "code",
      "execution_count": null,
      "metadata": {
        "id": "a6c04f2a-195a-4bca-abef-9ab0a23f474f"
      },
      "outputs": [],
      "source": [
        "import pandas as pd\n",
        "import requests as rq\n",
        "import json\n",
        "import matplotlib.pyplot as plt \n",
        "import seaborn as sns\n",
        "from sklearn.preprocessing import LabelEncoder\n",
        "from sklearn import preprocessing, model_selection\n",
        "from sklearn.model_selection import GridSearchCV, train_test_split, KFold\n",
        "from sklearn.neural_network import MLPRegressor\n",
        "from warnings import simplefilter\n",
        "from google.colab import drive\n",
        "import numpy as np\n",
        "from sklearn.metrics import confusion_matrix, classification_report, mean_squared_error, r2_score, mean_absolute_error\n",
        "import itertools\n",
        "from sklearn.svm import SVC\n",
        "from xgboost import XGBClassifier, XGBRegressor\n",
        "import xgboost as xgb\n",
        "from sklearn.linear_model import LinearRegression\n",
        "from sklearn.preprocessing import OneHotEncoder, LabelEncoder, MinMaxScaler, StandardScaler, RobustScaler"
      ],
      "id": "a6c04f2a-195a-4bca-abef-9ab0a23f474f"
    },
    {
      "cell_type": "code",
      "execution_count": null,
      "metadata": {
        "colab": {
          "base_uri": "https://localhost:8080/"
        },
        "id": "exgir6ycUa1F",
        "outputId": "539c07d5-ed4e-416c-d106-ae06fe3419ff"
      },
      "outputs": [
        {
          "output_type": "stream",
          "name": "stdout",
          "text": [
            "Mounted at /content/drive\n"
          ]
        }
      ],
      "source": [
        "drive.mount('/content/drive')"
      ],
      "id": "exgir6ycUa1F"
    },
    {
      "cell_type": "code",
      "execution_count": null,
      "metadata": {
        "id": "2c4ff53d-29f0-4e83-b1af-a306e7169a34"
      },
      "outputs": [],
      "source": [
        "simplefilter(action='ignore', category=FutureWarning)"
      ],
      "id": "2c4ff53d-29f0-4e83-b1af-a306e7169a34"
    },
    {
      "cell_type": "markdown",
      "source": [
        "#Carregamento dos dados"
      ],
      "metadata": {
        "id": "A8Qav7zxuedp"
      },
      "id": "A8Qav7zxuedp"
    },
    {
      "cell_type": "code",
      "execution_count": null,
      "metadata": {
        "id": "a4813f4e-4e63-4335-973a-e7f2f80374f8"
      },
      "outputs": [],
      "source": [
        "df = pd.read_csv('drive/MyDrive/Projeto TCC Pós Graduação/nfl-big-data-bowl-2020/train.csv', low_memory=False)"
      ],
      "id": "a4813f4e-4e63-4335-973a-e7f2f80374f8"
    },
    {
      "cell_type": "markdown",
      "source": [
        "#Pré Processamento dos dados"
      ],
      "metadata": {
        "id": "5k49xUcIuh7V"
      },
      "id": "5k49xUcIuh7V"
    },
    {
      "cell_type": "markdown",
      "source": [
        "##Adição de coluna ResultAfterMove\n",
        "Adicionado nova feature ao dataset mapeando o resultado de cada jogada, a jogada pode ter resultado em avanço em campo, ganho de novas descidas, turn over on Downs, quando a bola retorna para o outro time ou retornar nenhum avanço ou recuo em campo. "
      ],
      "metadata": {
        "id": "q4x_X6CVuz-b"
      },
      "id": "q4x_X6CVuz-b"
    },
    {
      "cell_type": "code",
      "execution_count": null,
      "metadata": {
        "id": "YBrZZ-GlsKVO"
      },
      "outputs": [],
      "source": [
        "df['ResultAfterMove'] = np.where(df['Yards']<0,'Perda de jardas',np.where(df['Yards']>=df['Distance'],'FirstDown',np.where(df['Down']==4,'Turn Over on Downs',np.where(['Yards']==0,'Sem avanço','Avanco sem First Down'))))"
      ],
      "id": "YBrZZ-GlsKVO"
    },
    {
      "cell_type": "markdown",
      "source": [
        "##Colunas Key e IsHomeTeam\n",
        "Adicionado coluna Key, concatenando GameID e PlayID, a qual será utilizada como indice do dataset. A coluna IsHomeTeam foi adicionada, mapenado em cada jogada se o time com posse de bola era o time mandante do jogo ou não. "
      ],
      "metadata": {
        "id": "LCO_flHyvZGc"
      },
      "id": "LCO_flHyvZGc"
    },
    {
      "cell_type": "code",
      "execution_count": null,
      "metadata": {
        "id": "4e158977-2df1-482b-8304-f646ae5ddeff"
      },
      "outputs": [],
      "source": [
        "df['key'] = df['GameId'].map(str)+'-'+df['PlayId'].map(str)\n",
        "df['IsHomeTeam'] = df['Team'].map({'away': 0, 'home': 1})\n",
        "df = df.drop(df[['GameId','PlayId','Team']],axis=1)\n",
        "df = df.set_index('key')"
      ],
      "id": "4e158977-2df1-482b-8304-f646ae5ddeff"
    },
    {
      "cell_type": "markdown",
      "source": [
        "##Separação entre atributos e variável alvo"
      ],
      "metadata": {
        "id": "BrChjp0iv3r-"
      },
      "id": "BrChjp0iv3r-"
    },
    {
      "cell_type": "code",
      "source": [
        "X,y = df.drop('Yards',axis=1), df['Yards']"
      ],
      "metadata": {
        "id": "iyv3g3L2v2Wi"
      },
      "id": "iyv3g3L2v2Wi",
      "execution_count": null,
      "outputs": []
    },
    {
      "cell_type": "markdown",
      "source": [
        "##Plot de distruição atributo alvo"
      ],
      "metadata": {
        "id": "RrHZXAi1wHjE"
      },
      "id": "RrHZXAi1wHjE"
    },
    {
      "cell_type": "code",
      "execution_count": null,
      "metadata": {
        "colab": {
          "base_uri": "https://localhost:8080/",
          "height": 483
        },
        "id": "_3fQBrfRnmcM",
        "outputId": "fd8f77d8-7250-4981-e2ef-ec8c40c16d06"
      },
      "outputs": [
        {
          "output_type": "display_data",
          "data": {
            "text/plain": [
              "<Figure size 864x576 with 1 Axes>"
            ],
            "image/png": "[encoded data removed]"
          },
          "metadata": {
            "needs_background": "light"
          }
        }
      ],
      "source": [
        "ax = sns.distplot(y.values)\n",
        "ax.figure.set_size_inches(12,8)"
      ],
      "id": "_3fQBrfRnmcM"
    },
    {
      "cell_type": "markdown",
      "source": [
        "##Plot CountValues por resultado de jogada e temporada."
      ],
      "metadata": {
        "id": "qlRhYk7dwptd"
      },
      "id": "qlRhYk7dwptd"
    },
    {
      "cell_type": "code",
      "execution_count": null,
      "metadata": {
        "colab": {
          "base_uri": "https://localhost:8080/",
          "height": 497
        },
        "id": "EPLP_WHyn0UF",
        "outputId": "2564ddec-ba70-47ef-9996-af9108e5776e"
      },
      "outputs": [
        {
          "output_type": "display_data",
          "data": {
            "text/plain": [
              "<Figure size 864x576 with 1 Axes>"
            ],
            "image/png": "[encoded data removed]"
          },
          "metadata": {
            "needs_background": "light"
          }
        }
      ],
      "source": [
        "ax = sns.countplot(df['ResultAfterMove'],hue=df['Season'])\n",
        "ax.figure.set_size_inches(12, 8)"
      ],
      "id": "EPLP_WHyn0UF"
    },
    {
      "cell_type": "markdown",
      "source": [
        "##Separação do dataset entre Treino e Teste\n",
        "Utilização de y para estratificação dos dados e divisão entre 70/30"
      ],
      "metadata": {
        "id": "DagBsBHRwwHQ"
      },
      "id": "DagBsBHRwwHQ"
    },
    {
      "cell_type": "code",
      "execution_count": null,
      "metadata": {
        "id": "tFTA3TdHjCzX"
      },
      "outputs": [],
      "source": [
        "X_train, X_test, y_train, y_test = train_test_split(X,y,test_size=.3, stratify=y)"
      ],
      "id": "tFTA3TdHjCzX"
    },
    {
      "cell_type": "markdown",
      "source": [
        "##Validação de colunas com informações nulas"
      ],
      "metadata": {
        "id": "24MOA0kaxZqA"
      },
      "id": "24MOA0kaxZqA"
    },
    {
      "cell_type": "code",
      "execution_count": null,
      "metadata": {
        "colab": {
          "base_uri": "https://localhost:8080/"
        },
        "id": "OyAoXoHRi_Fi",
        "outputId": "9bff8d09-8954-4e3c-8628-aad179eb5a99"
      },
      "outputs": [
        {
          "output_type": "execute_result",
          "data": {
            "text/plain": [
              "WindDirection        73292\n",
              "WindSpeed            64351\n",
              "Temperature          44390\n",
              "GameWeather          42155\n",
              "StadiumType          29218\n",
              "FieldPosition         5975\n",
              "Humidity              4294\n",
              "OffenseFormation        65\n",
              "Dir                     20\n",
              "DefendersInTheBox       16\n",
              "Orientation             16\n",
              "dtype: int64"
            ]
          },
          "metadata": {},
          "execution_count": 42
        }
      ],
      "source": [
        "sum_na = X_train.isna().sum().sort_values(ascending=False)\n",
        "sum_na[sum_na>0]"
      ],
      "id": "OyAoXoHRi_Fi"
    },
    {
      "cell_type": "markdown",
      "source": [
        "##Processamento da coluna WindSpeed\n",
        "Função desenvolvida para aplicar a padronização dos dados da coluna WindSpeed seguindo a seguinte lógica:\n",
        "Em casos que são numéricos, retornará o valor, caso o valor numérico contenha texto junto, ex: mph, retornará apenas o valor numérico. Em casos de range de valores, por exemplo \"30 - 50\", será realizado uma média entre os dois valores e o valor será o retorno deste calculo."
      ],
      "metadata": {
        "id": "sXq4pli1yMYX"
      },
      "id": "sXq4pli1yMYX"
    },
    {
      "cell_type": "code",
      "execution_count": null,
      "metadata": {
        "id": "eNcUnQlihqP7"
      },
      "outputs": [],
      "source": [
        "def windspeed(x):\n",
        "    x=str(x)\n",
        "    if x.isdigit():\n",
        "        return int(x)\n",
        "    elif (x.isalpha()):\n",
        "        return 0\n",
        "    elif (x.isalnum()):\n",
        "        return int(x.upper().split('M')[0])\n",
        "    elif '-' in x:\n",
        "        return int((int(x.split('-')[0])+int(x.split('-')[1]))/2)\n",
        "    else:\n",
        "        return 0"
      ],
      "id": "eNcUnQlihqP7"
    },
    {
      "cell_type": "markdown",
      "source": [
        "##Aplicação da função e preenchimento de valores nulos com a média da coluna."
      ],
      "metadata": {
        "id": "XY8WykFL1vYS"
      },
      "id": "XY8WykFL1vYS"
    },
    {
      "cell_type": "code",
      "execution_count": null,
      "metadata": {
        "id": "7tgxz3x6hMnW"
      },
      "outputs": [],
      "source": [
        "#dataset de treino\n",
        "X_train['WindSpeed']=X_train['WindSpeed'].apply(windspeed)\n",
        "X_train['WindSpeed'].fillna(X_train['WindSpeed'].mean(),inplace=True)"
      ],
      "id": "7tgxz3x6hMnW"
    },
    {
      "cell_type": "code",
      "execution_count": null,
      "metadata": {
        "id": "5c9PmRt0JUic"
      },
      "outputs": [],
      "source": [
        "#dataset de teste\n",
        "X_test['WindSpeed']=X_test['WindSpeed'].apply(windspeed)\n",
        "X_test['WindSpeed'].fillna(X_test['WindSpeed'].mean(),inplace=True)"
      ],
      "id": "5c9PmRt0JUic"
    },
    {
      "cell_type": "code",
      "execution_count": null,
      "metadata": {
        "colab": {
          "base_uri": "https://localhost:8080/"
        },
        "id": "Mfo8gGvOz9TQ",
        "outputId": "3cccb55d-e743-4651-daaa-1b3f5294ad52"
      },
      "outputs": [
        {
          "output_type": "execute_result",
          "data": {
            "text/plain": [
              "array([ 0,  1,  2,  3,  4,  5,  6,  7,  8,  9, 10, 11, 12, 13, 14, 15, 16,\n",
              "       17, 18, 19, 20, 22, 23, 24])"
            ]
          },
          "metadata": {},
          "execution_count": 45
        }
      ],
      "source": [
        "X_train['WindSpeed'].sort_values().unique()"
      ],
      "id": "Mfo8gGvOz9TQ"
    },
    {
      "cell_type": "code",
      "execution_count": null,
      "metadata": {
        "colab": {
          "base_uri": "https://localhost:8080/"
        },
        "id": "sVYnI1teJiPk",
        "outputId": "93319cba-cd08-4d29-a97a-ba8747d4241e"
      },
      "outputs": [
        {
          "output_type": "execute_result",
          "data": {
            "text/plain": [
              "array([ 0,  1,  2,  3,  4,  5,  6,  7,  8,  9, 10, 11, 12, 13, 14, 15, 16,\n",
              "       17, 18, 19, 20, 22, 23, 24])"
            ]
          },
          "metadata": {},
          "execution_count": 46
        }
      ],
      "source": [
        "X_test['WindSpeed'].sort_values().unique()"
      ],
      "id": "sVYnI1teJiPk"
    },
    {
      "cell_type": "code",
      "execution_count": null,
      "metadata": {
        "colab": {
          "base_uri": "https://localhost:8080/",
          "height": 552
        },
        "id": "yWe8uPPt4Gpl",
        "outputId": "2a108832-b305-4633-fc01-eb9d3668d8e4"
      },
      "outputs": [
        {
          "output_type": "display_data",
          "data": {
            "text/plain": [
              "<Figure size 864x648 with 1 Axes>"
            ],
            "image/png": "[encoded data removed]"
          },
          "metadata": {
            "needs_background": "light"
          }
        }
      ],
      "source": [
        "ax = sns.distplot(X_train['WindSpeed'])\n",
        "ax.figure.set_size_inches(12,9)"
      ],
      "id": "yWe8uPPt4Gpl"
    },
    {
      "cell_type": "markdown",
      "source": [
        "##Processamento da coluna Wind Direction. \n",
        "Função para limpeza da coluna Wind Direction, devido a diversisdade de valores, foram mapeadas todas as possibilidades existentes no dataset e a função abaixo fará a substituição destes entre North, South, West, East, South West e North West."
      ],
      "metadata": {
        "id": "OjwrLTKb17ve"
      },
      "id": "OjwrLTKb17ve"
    },
    {
      "cell_type": "code",
      "execution_count": null,
      "metadata": {
        "id": "BBBbKfJGhD9z"
      },
      "outputs": [],
      "source": [
        "def clean_wind_direction(wind_direction):\n",
        "    wd = str(wind_direction).upper()\n",
        "    if wd == 'N' or 'FROM N' in wd:\n",
        "        return 'north'\n",
        "    if wd == 'S' or 'FROM S' in wd:\n",
        "        return 'south'\n",
        "    if wd == 'W' or 'FROM W' in wd:\n",
        "        return 'west'\n",
        "    if wd == 'E' or 'FROM E' in wd:\n",
        "        return 'east'\n",
        "    if 'FROM SW' in wd or 'FROM SSW' in wd or 'FROM WSW' in wd:\n",
        "        return 'south west'\n",
        "    if 'FROM SE' in wd or 'FROM SSE' in wd or 'FROM ESE' in wd:\n",
        "        return 'south east'\n",
        "    if 'FROM NW' in wd or 'FROM NNW' in wd or 'FROM WNW' in wd:\n",
        "        return 'north west'\n",
        "    if 'FROM NE' in wd or 'FROM NNE' in wd or 'FROM ENE' in wd:\n",
        "        return 'north east'\n",
        "    if 'NW' in wd or 'NORTHWEST' in wd:\n",
        "        return 'north west'\n",
        "    if 'NE' in wd or 'NORTH EAST' in wd:\n",
        "        return 'north east'\n",
        "    if 'SW' in wd or 'SOUTHWEST' in wd:\n",
        "        return 'south west'\n",
        "    if 'SE' in wd or 'SOUTHEAST' in wd:\n",
        "        return 'south east'\n",
        "\n",
        "    return 'N/A'\n",
        "\n",
        "#Aplicação da função nos dados de treino\n",
        "X_train['WindDirection'] = X_train['WindDirection'].apply(clean_wind_direction)"
      ],
      "id": "BBBbKfJGhD9z"
    },
    {
      "cell_type": "code",
      "execution_count": null,
      "metadata": {
        "id": "oxJPOc1nJnl4"
      },
      "outputs": [],
      "source": [
        "#Aplicação da função nos dados de teste\n",
        "X_test['WindDirection'] = X_test['WindDirection'].apply(clean_wind_direction)"
      ],
      "id": "oxJPOc1nJnl4"
    },
    {
      "cell_type": "code",
      "execution_count": null,
      "metadata": {
        "colab": {
          "base_uri": "https://localhost:8080/"
        },
        "id": "h9mUeWa_piKe",
        "outputId": "0122339a-894f-4a15-8e7c-d3d771adc498"
      },
      "outputs": [
        {
          "output_type": "execute_result",
          "data": {
            "text/plain": [
              "array(['north east', 'north west', 'west', 'N/A', 'south', 'east',\n",
              "       'south east', 'north', 'south west'], dtype=object)"
            ]
          },
          "metadata": {},
          "execution_count": 19
        }
      ],
      "source": [
        "X_train['WindDirection'].unique()"
      ],
      "id": "h9mUeWa_piKe"
    },
    {
      "cell_type": "markdown",
      "source": [
        "##Processamento das colunas Humidity e Temperature\n",
        "Aplicado o preenchimento de valores nulos das colunas Humidity e Temperature utilizando o método ffill, 'Forward Fill', o qual realiza o preenchimento replicando o valor da linha anterior. Devido a forma de preenchimento destes dados, com poucas variações em um curto espaço de tempo, o método retorna um bom resultado para tratamento de valores nulos."
      ],
      "metadata": {
        "id": "eBSBnvzK2rp4"
      },
      "id": "eBSBnvzK2rp4"
    },
    {
      "cell_type": "code",
      "execution_count": null,
      "metadata": {
        "id": "KuoQ0T2r5jP9"
      },
      "outputs": [],
      "source": [
        "#Dados de treino\n",
        "X_train['Humidity'].fillna(method='ffill', inplace=True)\n",
        "X_train['Temperature'].fillna(method='ffill', inplace=True)"
      ],
      "id": "KuoQ0T2r5jP9"
    },
    {
      "cell_type": "code",
      "execution_count": null,
      "metadata": {
        "id": "2Kd3QSHeJuz_"
      },
      "outputs": [],
      "source": [
        "#Dados de teste\n",
        "X_test['Humidity'].fillna(method='ffill', inplace=True)\n",
        "X_test['Temperature'].fillna(method='ffill', inplace=True)"
      ],
      "id": "2Kd3QSHeJuz_"
    },
    {
      "cell_type": "markdown",
      "source": [
        "##Processamento de colunas Orientation, Dir, Deffenders e OffenseFormation\n",
        "Preenchimento das colunas usando a média da coluna para as variáveis Orientation, Dir, DeffendersInTheBox e OffenseFormation. \n",
        "Para a coluna OffenseFormation, a utilização de jogadas é algo totalmente importante, particular e decisivo em um jogo, porém existem jogadas personalizadas em cada time, então, para os valores em branco, foi assumido o valor UNKNOWN."
      ],
      "metadata": {
        "id": "KIynwy4X3zS4"
      },
      "id": "KIynwy4X3zS4"
    },
    {
      "cell_type": "code",
      "execution_count": null,
      "metadata": {
        "id": "TjyfEa2D5_1y"
      },
      "outputs": [],
      "source": [
        "na_map = {\n",
        "    'Orientation': X_train['Orientation'].mean(),\n",
        "    'Dir': X_train['Dir'].mean(),\n",
        "    'DefendersInTheBox': np.math.ceil(X_train['DefendersInTheBox'].mean()),\n",
        "    'OffenseFormation': 'UNKNOWN'\n",
        "}\n",
        "\n",
        "#Preenchimento no dataset de teste\n",
        "X_train.fillna(na_map, inplace=True)"
      ],
      "id": "TjyfEa2D5_1y"
    },
    {
      "cell_type": "code",
      "execution_count": null,
      "metadata": {
        "id": "2UAwFhiaJ3Bi"
      },
      "outputs": [],
      "source": [
        "#Preenchimento no dataset de treino\n",
        "X_test.fillna(na_map, inplace=True)"
      ],
      "id": "2UAwFhiaJ3Bi"
    },
    {
      "cell_type": "markdown",
      "source": [
        "##Processamento da coluna Game Weather\n",
        "Devido a alta diversidade de valores, totalmente fora de um padrão, para a padronização desta variável, foram mapeados todos os valores possíveis e agrupados enre Rain, Overcast, Clear, Snow e Controlled, para casos de estadios fechados, onde o clima não terá tanta influência."
      ],
      "metadata": {
        "id": "4wPwnLCymUwv"
      },
      "id": "4wPwnLCymUwv"
    },
    {
      "cell_type": "code",
      "execution_count": null,
      "metadata": {
        "id": "lyuxu-6s6_03"
      },
      "outputs": [],
      "source": [
        "def group_game_weather(weather):\n",
        "    rain = ['Rainy', 'Rain Chance 40%', 'Showers',\n",
        "            'Cloudy with periods of rain, thunder possible. Winds shifting to WNW, 10-20 mph.',\n",
        "            'Scattered Showers', 'Cloudy, Rain', 'Rain shower', 'Light Rain', 'Rain']\n",
        "\n",
        "    overcast = ['Cloudy, light snow accumulating 1-3\"', 'Party Cloudy', 'Cloudy, chance of rain',\n",
        "                'Coudy', 'Cloudy, 50% change of rain', 'Rain likely, temps in low 40s.',\n",
        "                'Cloudy and cold', 'Cloudy, fog started developing in 2nd quarter',\n",
        "                'Partly Clouidy', '30% Chance of Rain', 'Mostly Coudy', 'Cloudy and Cool',\n",
        "                'cloudy', 'Partly cloudy', 'Overcast', 'Hazy', 'Mostly cloudy', 'Mostly Cloudy',\n",
        "                'Partly Cloudy', 'Cloudy']\n",
        "\n",
        "    clear = ['Partly clear', 'Sunny and clear', 'Sun & clouds', 'Clear and Sunny',\n",
        "             'Sunny and cold', 'Sunny Skies', 'Clear and Cool', 'Clear and sunny',\n",
        "             'Sunny, highs to upper 80s', 'Mostly Sunny Skies', 'Cold',\n",
        "             'Clear and warm', 'Sunny and warm', 'Clear and cold', 'Mostly sunny',\n",
        "             'T: 51; H: 55; W: NW 10 mph', 'Clear Skies', 'Clear skies', 'Partly sunny',\n",
        "             'Fair', 'Partly Sunny', 'Mostly Sunny', 'Clear', 'Sunny']\n",
        "\n",
        "    snow  = ['Heavy lake effect snow', 'Snow']\n",
        "\n",
        "    controlled  = ['N/A Indoor', 'Indoors', 'Indoor', 'N/A (Indoors)', 'Controlled Climate']\n",
        "    \n",
        "    if weather in rain:\n",
        "        return 'rain'\n",
        "    elif weather in overcast:\n",
        "        return 'overcast'\n",
        "    elif weather in clear:\n",
        "        return 'clear'\n",
        "    elif weather in snow:\n",
        "        return 'snow'\n",
        "    elif weather in controlled:\n",
        "        return 'controlled'\n",
        "    \n",
        "    return 'controlled'"
      ],
      "id": "lyuxu-6s6_03"
    },
    {
      "cell_type": "code",
      "execution_count": null,
      "metadata": {
        "id": "99AET0xJ6_xV"
      },
      "outputs": [],
      "source": [
        "#Aplicação da função nos dados de treino\n",
        "X_train['GameWeather'] = X_train['GameWeather'].apply(group_game_weather)\n",
        "X_train['FieldPosition'] = np.where(X_train['YardLine'] == 50, X_train['PossessionTeam'], X_train['FieldPosition'])"
      ],
      "id": "99AET0xJ6_xV"
    },
    {
      "cell_type": "code",
      "execution_count": null,
      "metadata": {
        "id": "WuyHxhxMJ7QM"
      },
      "outputs": [],
      "source": [
        "#Aplicação da função nos dados de teste\n",
        "X_test['GameWeather'] = X_test['GameWeather'].apply(group_game_weather)\n",
        "X_test['FieldPosition'] = np.where(X_test['YardLine'] == 50, X_test['PossessionTeam'], X_test['FieldPosition'])"
      ],
      "id": "WuyHxhxMJ7QM"
    },
    {
      "cell_type": "markdown",
      "source": [
        "##Processamento da coluna Stadium Type\n",
        "Para esta variável, temos um cenário parecido com a Game Weather, existem vários valores que, no fim, possuem o mesmo significado. Para tal, foram mapeados todos os valores possíveis da coluna e agrupados entre Outdoor, Indoor_Closed, Indoor_Open, Dome_Closed, Dome_Open, casos nulos serão preenchidos com a tag unknown."
      ],
      "metadata": {
        "id": "5ig9URnWnFCh"
      },
      "id": "5ig9URnWnFCh"
    },
    {
      "cell_type": "code",
      "execution_count": null,
      "metadata": {
        "id": "fxWc-qXI6_qE"
      },
      "outputs": [],
      "source": [
        "#Para a coluna de Stadium Type, também foi realizado o agrupado dos valores, visto que temos valores que diferem, porém possuem o mesmo significado.\n",
        "def group_stadium_types(stadium):\n",
        "    outdoor = ['Outdoor', 'Outdoors', 'Cloudy', 'Heinz Field', \n",
        "               'Outdor', 'Ourdoor', 'Outside', 'Outddors', \n",
        "               'Outdoor Retr Roof-Open', 'Oudoor', 'Bowl']\n",
        "\n",
        "    indoor_closed = ['Indoors', 'Indoor', 'Indoor, Roof Closed', 'Indoor, Roof Closed', \n",
        "                    'Retractable Roof', 'Retr. Roof-Closed', 'Retr. Roof - Closed', 'Retr. Roof Closed',]\n",
        "\n",
        "    indoor_open   = ['Indoor, Open Roof', 'Open', 'Retr. Roof-Open', 'Retr. Roof - Open']\n",
        "\n",
        "    dome_closed   = ['Dome', 'Domed, closed', 'Closed Dome', 'Domed', 'Dome, closed']\n",
        "    \n",
        "    dome_open     = ['Domed, Open', 'Domed, open']\n",
        "    \n",
        "    if stadium in outdoor:\n",
        "        return 'outdoor'\n",
        "    elif stadium in indoor_closed:\n",
        "        return 'indoor closed'\n",
        "    elif stadium in indoor_open:\n",
        "        return 'indoor open'\n",
        "    elif stadium in dome_closed:\n",
        "        return 'dome closed'\n",
        "    elif stadium in dome_open:\n",
        "        return 'dome open'\n",
        "    else:\n",
        "        return 'unknown'\n",
        "#Aplicação nos dados de treino.   \n",
        "X_train['StadiumType'] = X_train['StadiumType'].apply(group_stadium_types)"
      ],
      "id": "fxWc-qXI6_qE"
    },
    {
      "cell_type": "code",
      "execution_count": null,
      "metadata": {
        "id": "G6cJZXo5KG4Z"
      },
      "outputs": [],
      "source": [
        "#Aplicação nos dados de teste\n",
        "X_test['StadiumType'] = X_test['StadiumType'].apply(group_stadium_types)"
      ],
      "id": "G6cJZXo5KG4Z"
    },
    {
      "cell_type": "markdown",
      "source": [
        "##Processamento coluna PlayerHeight\n",
        "Para esta coluna, como o dado já traz uma informação numérica com a altura do jogador, temos apenas algumas situações onde existem alguma string acompanhando, neste caso, foi removido o string que acompanhava o caracter numérico e, posteriormente, a coluna poderá ser transformada em um atributo numérico. "
      ],
      "metadata": {
        "id": "Ff3h6on7n_yR"
      },
      "id": "Ff3h6on7n_yR"
    },
    {
      "cell_type": "code",
      "execution_count": null,
      "metadata": {
        "id": "mRDetLWO6_mn"
      },
      "outputs": [],
      "source": [
        "#Aplicação no dados de treino\n",
        "X_train['PlayerHeight']=X_train['PlayerHeight'].apply(lambda x : np.mean(list(map(int,x.split('-')))))"
      ],
      "id": "mRDetLWO6_mn"
    },
    {
      "cell_type": "code",
      "execution_count": null,
      "metadata": {
        "id": "mFzKMBBjKMNP"
      },
      "outputs": [],
      "source": [
        "#Aplicação nos dados de teste\n",
        "X_test['PlayerHeight']=X_test['PlayerHeight'].apply(lambda x : np.mean(list(map(int,x.split('-')))))"
      ],
      "id": "mFzKMBBjKMNP"
    },
    {
      "cell_type": "code",
      "execution_count": null,
      "metadata": {
        "colab": {
          "base_uri": "https://localhost:8080/"
        },
        "id": "r8ARUlCc6_j1",
        "outputId": "34b9cc74-0f83-44bb-ac44-59779d8ec411"
      },
      "outputs": [
        {
          "output_type": "execute_result",
          "data": {
            "text/plain": [
              "array([3. , 5. , 4.5, 7.5, 7. , 6.5, 5.5, 6. , 3.5, 8. , 4. ])"
            ]
          },
          "metadata": {},
          "execution_count": 32
        }
      ],
      "source": [
        "X_train['PlayerHeight'].unique()"
      ],
      "id": "r8ARUlCc6_j1"
    },
    {
      "cell_type": "markdown",
      "source": [
        "##Processamento coluna DefensePersonnel\n",
        "Para esta coluna, onde temos a informação de quais e quantos jogadores compõem a linha de defesa do time, o dado encontra-se no formato do exemplo \"1 DL, 3 LB, 4 BL, 2 OL\", para efetuar a limpeza e processamento, foi aplicado a técnica de separar cada posição em uma coluna distinta, retornando quantos jogadores existem em cada uma delas, para tal, primeiro foi efetuado o split dos dados pelo espaço aplicado e depois coletado apenas o valor inteiro restante, cada valor deste foi armazenado em uma variável auxiliar (u, v, x e y) e na sequência, as novas colunas foram atribuídas ao dataset, tendo o seu nome conforme o nome da posição do jogador."
      ],
      "metadata": {
        "id": "u_6GN2T8pMO5"
      },
      "id": "u_6GN2T8pMO5"
    },
    {
      "cell_type": "code",
      "execution_count": null,
      "metadata": {
        "id": "O9E6LOOj6_hc"
      },
      "outputs": [],
      "source": [
        "def process_defense(x):\n",
        "    num=[]\n",
        "    num=x.split(',')\n",
        "    dl=int(num[0].split(' ')[0])\n",
        "    lb=int(num[1].split(' ')[1])\n",
        "    db=int(num[2].split(' ')[1])\n",
        "    if(len(num)>3):\n",
        "         ol=int(num[3].split(' ')[1])\n",
        "    else:\n",
        "         ol=0\n",
        "    return [dl,lb,db,ol]\n",
        "\n",
        "#Aplicação nos dados de treino\n",
        "values=X_train['DefensePersonnel'].apply(process_defense)\n",
        "u,v,x,y=list(map(list,zip(*values)))\n",
        "\n",
        "X_train['DL']=u\n",
        "X_train['LB']=v\n",
        "X_train['BL']=x\n",
        "X_train['OL']=y\n",
        "X_train.drop(['DefensePersonnel'],axis=1,inplace=True)"
      ],
      "id": "O9E6LOOj6_hc"
    },
    {
      "cell_type": "code",
      "execution_count": null,
      "metadata": {
        "id": "vo-IZzz_KW4q"
      },
      "outputs": [],
      "source": [
        "#Aplicação nos dados de teste\n",
        "values=X_test['DefensePersonnel'].apply(process_defense)\n",
        "u,v,x,y=list(map(list,zip(*values)))\n",
        "\n",
        "X_test['DL']=u\n",
        "X_test['LB']=v\n",
        "X_test['BL']=x\n",
        "X_test['OL']=y\n",
        "X_test.drop(['DefensePersonnel'],axis=1,inplace=True)"
      ],
      "id": "vo-IZzz_KW4q"
    },
    {
      "cell_type": "markdown",
      "source": [
        "##Enconding dos dados\n",
        "Nesta etapa, é realizado o enconding dos dados, primeiramente, existe a tentativa de converter todas as colunas que são diferentes do tipo INT para float16, as colunas que não puderem ser convertidas, retornarão no except e serão adicionadas em uma lista, a qual é passada ao método LabelEncoder, onde os valores das colunas serão rotulados com um numero inteiro para cada valor possível. "
      ],
      "metadata": {
        "id": "QRP456CVsC_o"
      },
      "id": "QRP456CVsC_o"
    },
    {
      "cell_type": "code",
      "execution_count": null,
      "metadata": {
        "id": "60wWMua5-Hqf"
      },
      "outputs": [],
      "source": [
        "#Aplicação nos dados de treino\n",
        "ColumnsToEncoding=[]\n",
        "for c in X_train.columns:\n",
        "    if(X_train[c].dtype != int):\n",
        "            try:\n",
        "                X_train[c]=X_train[c].astype('float16')\n",
        "            except:\n",
        "                ColumnsToEncoding.append(c)\n",
        "\n",
        "lbdic={}\n",
        "for c in ColumnsToEncoding:\n",
        "    lb=LabelEncoder()\n",
        "    lb=lb.fit(X_train[c].values)\n",
        "    lbdic[c]=lb\n",
        "    X_train[c]=lb.transform(X_train[c].values)"
      ],
      "id": "60wWMua5-Hqf"
    },
    {
      "cell_type": "code",
      "execution_count": null,
      "metadata": {
        "id": "d-x_QRdMKfXj"
      },
      "outputs": [],
      "source": [
        "#Aplicação nos dados de teste\n",
        "ColumnsToEncoding=[]\n",
        "for c in X_test.columns:\n",
        "    if(X_test[c].dtype != int):\n",
        "            try:\n",
        "                X_test[c]=X_test[c].astype('float16')\n",
        "            except:\n",
        "                ColumnsToEncoding.append(c)\n",
        "\n",
        "lbdic={}\n",
        "for c in ColumnsToEncoding:\n",
        "    lb=LabelEncoder()\n",
        "    lb=lb.fit(X_test[c].values)\n",
        "    lbdic[c]=lb\n",
        "    X_test[c]=lb.transform(X_test[c].values)"
      ],
      "id": "d-x_QRdMKfXj"
    },
    {
      "cell_type": "code",
      "execution_count": null,
      "metadata": {
        "colab": {
          "base_uri": "https://localhost:8080/",
          "height": 311
        },
        "id": "nibRnAC5-HnI",
        "outputId": "9b2f2eab-ff74-4cc1-dab1-d6991078ccf0"
      },
      "outputs": [
        {
          "output_type": "execute_result",
          "data": {
            "text/plain": [
              "                                  X          Y         S         A       Dis  \\\n",
              "key                                                                            \n",
              "2017102910-20171029100579  28.37500  28.125000  2.449219  0.970215  0.300049   \n",
              "2018120910-20181209103960  32.40625  27.765625  5.160156  1.459961  0.509766   \n",
              "2018093008-20180930080102  68.37500  22.234375  4.218750  3.009766  0.419922   \n",
              "2019112409-20191124090051  34.87500  31.718750  0.620117  1.780273  0.059998   \n",
              "2018100709-20181007091013  54.90625  38.093750  0.189941  0.540039  0.020004   \n",
              "\n",
              "                           Orientation      Dir    NflId  DisplayName  \\\n",
              "key                                                                     \n",
              "2017102910-20171029100579      178.250  335.500  2508109          362   \n",
              "2018120910-20181209103960       96.625  146.375  2561006         1628   \n",
              "2018093008-20180930080102       73.000   90.000  2532975         2050   \n",
              "2019112409-20191124090051      250.250  154.375  2495481         1562   \n",
              "2018100709-20181007091013      242.500  185.000    79848         1614   \n",
              "\n",
              "                           JerseyNumber  ...  Temperature  Humidity  \\\n",
              "key                                      ...                          \n",
              "2017102910-20171029100579            97  ...         68.0      70.0   \n",
              "2018120910-20181209103960            36  ...         54.0      72.0   \n",
              "2018093008-20180930080102             3  ...         54.0      72.0   \n",
              "2019112409-20191124090051            93  ...         38.0      90.0   \n",
              "2018100709-20181007091013            27  ...         79.0      77.0   \n",
              "\n",
              "                           WindSpeed  WindDirection  ResultAfterMove  \\\n",
              "key                                                                    \n",
              "2017102910-20171029100579          0              0                0   \n",
              "2018120910-20181209103960          3              4                2   \n",
              "2018093008-20180930080102          0              0                0   \n",
              "2019112409-20191124090051         16              4                0   \n",
              "2018100709-20181007091013          6              7                0   \n",
              "\n",
              "                           IsHomeTeam  DL  LB  BL  OL  \n",
              "key                                                    \n",
              "2017102910-20171029100579           0   2   4   5   0  \n",
              "2018120910-20181209103960           1   4   2   5   0  \n",
              "2018093008-20180930080102           0   4   2   5   0  \n",
              "2019112409-20191124090051           1   3   3   5   0  \n",
              "2018100709-20181007091013           1   4   2   5   0  \n",
              "\n",
              "[5 rows x 50 columns]"
            ],
            "text/html": [
              "\n",
              "  <div id=\"df-2967f903-9d3d-4f42-9edb-bf7079a6196f\">\n",
              "    <div class=\"colab-df-container\">\n",
              "      <div>\n",
              "<style scoped>\n",
              "    .dataframe tbody tr th:only-of-type {\n",
              "        vertical-align: middle;\n",
              "    }\n",
              "\n",
              "    .dataframe tbody tr th {\n",
              "        vertical-align: top;\n",
              "    }\n",
              "\n",
              "    .dataframe thead th {\n",
              "        text-align: right;\n",
              "    }\n",
              "</style>\n",
              "<table border=\"1\" class=\"dataframe\">\n",
              "  <thead>\n",
              "    <tr style=\"text-align: right;\">\n",
              "      <th></th>\n",
              "      <th>X</th>\n",
              "      <th>Y</th>\n",
              "      <th>S</th>\n",
              "      <th>A</th>\n",
              "      <th>Dis</th>\n",
              "      <th>Orientation</th>\n",
              "      <th>Dir</th>\n",
              "      <th>NflId</th>\n",
              "      <th>DisplayName</th>\n",
              "      <th>JerseyNumber</th>\n",
              "      <th>...</th>\n",
              "      <th>Temperature</th>\n",
              "      <th>Humidity</th>\n",
              "      <th>WindSpeed</th>\n",
              "      <th>WindDirection</th>\n",
              "      <th>ResultAfterMove</th>\n",
              "      <th>IsHomeTeam</th>\n",
              "      <th>DL</th>\n",
              "      <th>LB</th>\n",
              "      <th>BL</th>\n",
              "      <th>OL</th>\n",
              "    </tr>\n",
              "    <tr>\n",
              "      <th>key</th>\n",
              "      <th></th>\n",
              "      <th></th>\n",
              "      <th></th>\n",
              "      <th></th>\n",
              "      <th></th>\n",
              "      <th></th>\n",
              "      <th></th>\n",
              "      <th></th>\n",
              "      <th></th>\n",
              "      <th></th>\n",
              "      <th></th>\n",
              "      <th></th>\n",
              "      <th></th>\n",
              "      <th></th>\n",
              "      <th></th>\n",
              "      <th></th>\n",
              "      <th></th>\n",
              "      <th></th>\n",
              "      <th></th>\n",
              "      <th></th>\n",
              "      <th></th>\n",
              "    </tr>\n",
              "  </thead>\n",
              "  <tbody>\n",
              "    <tr>\n",
              "      <th>2017102910-20171029100579</th>\n",
              "      <td>28.37500</td>\n",
              "      <td>28.125000</td>\n",
              "      <td>2.449219</td>\n",
              "      <td>0.970215</td>\n",
              "      <td>0.300049</td>\n",
              "      <td>178.250</td>\n",
              "      <td>335.500</td>\n",
              "      <td>2508109</td>\n",
              "      <td>362</td>\n",
              "      <td>97</td>\n",
              "      <td>...</td>\n",
              "      <td>68.0</td>\n",
              "      <td>70.0</td>\n",
              "      <td>0</td>\n",
              "      <td>0</td>\n",
              "      <td>0</td>\n",
              "      <td>0</td>\n",
              "      <td>2</td>\n",
              "      <td>4</td>\n",
              "      <td>5</td>\n",
              "      <td>0</td>\n",
              "    </tr>\n",
              "    <tr>\n",
              "      <th>2018120910-20181209103960</th>\n",
              "      <td>32.40625</td>\n",
              "      <td>27.765625</td>\n",
              "      <td>5.160156</td>\n",
              "      <td>1.459961</td>\n",
              "      <td>0.509766</td>\n",
              "      <td>96.625</td>\n",
              "      <td>146.375</td>\n",
              "      <td>2561006</td>\n",
              "      <td>1628</td>\n",
              "      <td>36</td>\n",
              "      <td>...</td>\n",
              "      <td>54.0</td>\n",
              "      <td>72.0</td>\n",
              "      <td>3</td>\n",
              "      <td>4</td>\n",
              "      <td>2</td>\n",
              "      <td>1</td>\n",
              "      <td>4</td>\n",
              "      <td>2</td>\n",
              "      <td>5</td>\n",
              "      <td>0</td>\n",
              "    </tr>\n",
              "    <tr>\n",
              "      <th>2018093008-20180930080102</th>\n",
              "      <td>68.37500</td>\n",
              "      <td>22.234375</td>\n",
              "      <td>4.218750</td>\n",
              "      <td>3.009766</td>\n",
              "      <td>0.419922</td>\n",
              "      <td>73.000</td>\n",
              "      <td>90.000</td>\n",
              "      <td>2532975</td>\n",
              "      <td>2050</td>\n",
              "      <td>3</td>\n",
              "      <td>...</td>\n",
              "      <td>54.0</td>\n",
              "      <td>72.0</td>\n",
              "      <td>0</td>\n",
              "      <td>0</td>\n",
              "      <td>0</td>\n",
              "      <td>0</td>\n",
              "      <td>4</td>\n",
              "      <td>2</td>\n",
              "      <td>5</td>\n",
              "      <td>0</td>\n",
              "    </tr>\n",
              "    <tr>\n",
              "      <th>2019112409-20191124090051</th>\n",
              "      <td>34.87500</td>\n",
              "      <td>31.718750</td>\n",
              "      <td>0.620117</td>\n",
              "      <td>1.780273</td>\n",
              "      <td>0.059998</td>\n",
              "      <td>250.250</td>\n",
              "      <td>154.375</td>\n",
              "      <td>2495481</td>\n",
              "      <td>1562</td>\n",
              "      <td>93</td>\n",
              "      <td>...</td>\n",
              "      <td>38.0</td>\n",
              "      <td>90.0</td>\n",
              "      <td>16</td>\n",
              "      <td>4</td>\n",
              "      <td>0</td>\n",
              "      <td>1</td>\n",
              "      <td>3</td>\n",
              "      <td>3</td>\n",
              "      <td>5</td>\n",
              "      <td>0</td>\n",
              "    </tr>\n",
              "    <tr>\n",
              "      <th>2018100709-20181007091013</th>\n",
              "      <td>54.90625</td>\n",
              "      <td>38.093750</td>\n",
              "      <td>0.189941</td>\n",
              "      <td>0.540039</td>\n",
              "      <td>0.020004</td>\n",
              "      <td>242.500</td>\n",
              "      <td>185.000</td>\n",
              "      <td>79848</td>\n",
              "      <td>1614</td>\n",
              "      <td>27</td>\n",
              "      <td>...</td>\n",
              "      <td>79.0</td>\n",
              "      <td>77.0</td>\n",
              "      <td>6</td>\n",
              "      <td>7</td>\n",
              "      <td>0</td>\n",
              "      <td>1</td>\n",
              "      <td>4</td>\n",
              "      <td>2</td>\n",
              "      <td>5</td>\n",
              "      <td>0</td>\n",
              "    </tr>\n",
              "  </tbody>\n",
              "</table>\n",
              "<p>5 rows × 50 columns</p>\n",
              "</div>\n",
              "      <button class=\"colab-df-convert\" onclick=\"convertToInteractive('df-2967f903-9d3d-4f42-9edb-bf7079a6196f')\"\n",
              "              title=\"Convert this dataframe to an interactive table.\"\n",
              "              style=\"display:none;\">\n",
              "        \n",
              "  <svg xmlns=\"http://www.w3.org/2000/svg\" height=\"24px\"viewBox=\"0 0 24 24\"\n",
              "       width=\"24px\">\n",
              "    <path d=\"M0 0h24v24H0V0z\" fill=\"none\"/>\n",
              "    <path d=\"M18.56 5.44l.94 2.06.94-2.06 2.06-.94-2.06-.94-.94-2.06-.94 2.06-2.06.94zm-11 1L8.5 8.5l.94-2.06 2.06-.94-2.06-.94L8.5 2.5l-.94 2.06-2.06.94zm10 10l.94 2.06.94-2.06 2.06-.94-2.06-.94-.94-2.06-.94 2.06-2.06.94z\"/><path d=\"M17.41 7.96l-1.37-1.37c-.4-.4-.92-.59-1.43-.59-.52 0-1.04.2-1.43.59L10.3 9.45l-7.72 7.72c-.78.78-.78 2.05 0 2.83L4 21.41c.39.39.9.59 1.41.59.51 0 1.02-.2 1.41-.59l7.78-7.78 2.81-2.81c.8-.78.8-2.07 0-2.86zM5.41 20L4 18.59l7.72-7.72 1.47 1.35L5.41 20z\"/>\n",
              "  </svg>\n",
              "      </button>\n",
              "      \n",
              "  <style>\n",
              "    .colab-df-container {\n",
              "      display:flex;\n",
              "      flex-wrap:wrap;\n",
              "      gap: 12px;\n",
              "    }\n",
              "\n",
              "    .colab-df-convert {\n",
              "      background-color: #E8F0FE;\n",
              "      border: none;\n",
              "      border-radius: 50%;\n",
              "      cursor: pointer;\n",
              "      display: none;\n",
              "      fill: #1967D2;\n",
              "      height: 32px;\n",
              "      padding: 0 0 0 0;\n",
              "      width: 32px;\n",
              "    }\n",
              "\n",
              "    .colab-df-convert:hover {\n",
              "      background-color: #E2EBFA;\n",
              "      box-shadow: 0px 1px 2px rgba(60, 64, 67, 0.3), 0px 1px 3px 1px rgba(60, 64, 67, 0.15);\n",
              "      fill: #174EA6;\n",
              "    }\n",
              "\n",
              "    [theme=dark] .colab-df-convert {\n",
              "      background-color: #3B4455;\n",
              "      fill: #D2E3FC;\n",
              "    }\n",
              "\n",
              "    [theme=dark] .colab-df-convert:hover {\n",
              "      background-color: #434B5C;\n",
              "      box-shadow: 0px 1px 3px 1px rgba(0, 0, 0, 0.15);\n",
              "      filter: drop-shadow(0px 1px 2px rgba(0, 0, 0, 0.3));\n",
              "      fill: #FFFFFF;\n",
              "    }\n",
              "  </style>\n",
              "\n",
              "      <script>\n",
              "        const buttonEl =\n",
              "          document.querySelector('#df-2967f903-9d3d-4f42-9edb-bf7079a6196f button.colab-df-convert');\n",
              "        buttonEl.style.display =\n",
              "          google.colab.kernel.accessAllowed ? 'block' : 'none';\n",
              "\n",
              "        async function convertToInteractive(key) {\n",
              "          const element = document.querySelector('#df-2967f903-9d3d-4f42-9edb-bf7079a6196f');\n",
              "          const dataTable =\n",
              "            await google.colab.kernel.invokeFunction('convertToInteractive',\n",
              "                                                     [key], {});\n",
              "          if (!dataTable) return;\n",
              "\n",
              "          const docLinkHtml = 'Like what you see? Visit the ' +\n",
              "            '<a target=\"_blank\" href=https://colab.research.google.com/notebooks/data_table.ipynb>data table notebook</a>'\n",
              "            + ' to learn more about interactive tables.';\n",
              "          element.innerHTML = '';\n",
              "          dataTable['output_type'] = 'display_data';\n",
              "          await google.colab.output.renderOutput(dataTable, element);\n",
              "          const docLink = document.createElement('div');\n",
              "          docLink.innerHTML = docLinkHtml;\n",
              "          element.appendChild(docLink);\n",
              "        }\n",
              "      </script>\n",
              "    </div>\n",
              "  </div>\n",
              "  "
            ]
          },
          "metadata": {},
          "execution_count": 37
        }
      ],
      "source": [
        "X_test.head(5)"
      ],
      "id": "nibRnAC5-HnI"
    },
    {
      "cell_type": "markdown",
      "source": [
        "##Scaler de dados\n",
        "Para padronizar os valores do dataset, fora tentado 3 métodos diferentes e avaliado a melhor performance dentre eles, para este cenário, o método MinMaxScaler apresentou uma performance superior aos demais. "
      ],
      "metadata": {
        "id": "2amAG_AMsxrX"
      },
      "id": "2amAG_AMsxrX"
    },
    {
      "cell_type": "code",
      "execution_count": null,
      "metadata": {
        "id": "zLGGRVr1Kvm7"
      },
      "outputs": [],
      "source": [
        "#Aplicação de scaler nos dados. RobustScaler apresentou a melhor performance nos modelos testados.\n",
        "SS = StandardScaler()\n",
        "MM = MinMaxScaler()\n",
        "RS = RobustScaler()\n",
        "\n",
        "X_train_scaled = MM.fit_transform(X_train)\n",
        "X_test_scaled = MM.fit_transform(X_test)"
      ],
      "id": "zLGGRVr1Kvm7"
    },
    {
      "cell_type": "markdown",
      "source": [
        "#Treinamento de modelos"
      ],
      "metadata": {
        "id": "bOGWF44-UMS3"
      },
      "id": "bOGWF44-UMS3"
    },
    {
      "cell_type": "markdown",
      "source": [
        "##XGBoost Dados originais\n",
        "Como primeiro teste, o regressor XGBoost foi treinado com os dados antes de ser aplicado o scaler, como parametrização do modelo, foi alterado as informações de Max_Depth e ETA, os seguintes resultados foram obtidos. \n",
        "\n",
        "Mean Squared Error:  0.15127884465183353\n",
        "\n",
        "R2 Score:  0.9963645894442287\n",
        "\n",
        "Mean Absolute Error:  0.12070613972205342"
      ],
      "metadata": {
        "id": "D8yrANFGuTmy"
      },
      "id": "D8yrANFGuTmy"
    },
    {
      "cell_type": "code",
      "execution_count": null,
      "metadata": {
        "colab": {
          "base_uri": "https://localhost:8080/"
        },
        "id": "qX-9MhvYLMOo",
        "outputId": "37c71ca8-8d8c-4f0b-f270-cf972291ce4e"
      },
      "outputs": [
        {
          "output_type": "stream",
          "name": "stdout",
          "text": [
            "Mean Squared Error:  0.15127884465183353\n",
            "R2 Score:  0.9963645894442287\n"
          ]
        }
      ],
      "source": [
        "import xgboost as xgb\n",
        "import pandas as pd\n",
        "from sklearn.metrics import mean_squared_error, r2_score\n",
        "\n",
        "\n",
        "# Transformando conjuntos de treinamento e teste em DMatrices\n",
        "dtrain = xgb.DMatrix(data=X_train, label=y_train)\n",
        "dtest = xgb.DMatrix(data=X_test, label=y_test)\n",
        "\n",
        "# Definindo parâmetros do modelo\n",
        "params = {\n",
        "    \"objective\":\"reg:squarederror\",\n",
        "    \"max_depth\":20,\n",
        "    \"eta\":0.1,\n",
        "    \"eval_metric\":\"rmse\"\n",
        "}\n",
        "\n",
        "# Treinando o modelo\n",
        "model_n = xgb.train(params=params, dtrain=dtrain, num_boost_round=100)\n",
        "\n",
        "# Fazendo previsões no conjunto de teste\n",
        "preds = model_n.predict(dtest)"
      ],
      "id": "qX-9MhvYLMOo"
    },
    {
      "cell_type": "code",
      "source": [
        "# Avaliar o modelo\n",
        "mse_n = mean_squared_error(y_test, preds)\n",
        "r2 = r2_score(y_test, preds)\n",
        "mae_n = mean_absolute_error(y_test, preds)\n",
        "\n",
        "print(\"Mean Squared Error: \", mse_n)\n",
        "print(\"R2 Score: \", r2)\n",
        "print(\"Mean Absolute Error: \", mae_n)"
      ],
      "metadata": {
        "colab": {
          "base_uri": "https://localhost:8080/"
        },
        "id": "Ug-EHlmHS8vv",
        "outputId": "fd73280b-0ec9-4fa1-f6ba-be84feec8e62"
      },
      "id": "Ug-EHlmHS8vv",
      "execution_count": null,
      "outputs": [
        {
          "output_type": "stream",
          "name": "stdout",
          "text": [
            "Mean Squared Error:  0.15127884465183353\n",
            "R2 Score:  0.9963645894442287\n",
            "Mean Absolute Error:  0.12070613972205342\n"
          ]
        }
      ]
    },
    {
      "cell_type": "markdown",
      "source": [
        "##XGBoost Dados escalados\n",
        "Em um segundo teste, o regressor XGBoost foi treinado com os dados já processados pelo MinMaxScaler, mantendo a mesma parametrização anterior e os seguintes resultados foram obtidos.\n",
        "\n",
        "Mean Squared Error:  0.09624333056625436\n",
        "\n",
        "R2 Score:  0.997688414286095\n",
        "\n",
        "Mean Absolute Error:  0.1150129628115245"
      ],
      "metadata": {
        "id": "q3vqraDdu1Ba"
      },
      "id": "q3vqraDdu1Ba"
    },
    {
      "cell_type": "code",
      "source": [
        "# Transformando conjuntos de treinamento e teste em DMatrices\n",
        "dtrain_scaled = xgb.DMatrix(data=X_train_scaled, label=y_train)\n",
        "dtest_scaled = xgb.DMatrix(data=X_test_scaled, label=y_test)\n",
        "\n",
        "# Definindo parâmetros do modelo\n",
        "params = {\n",
        "    \"objective\":\"reg:squarederror\",\n",
        "    \"max_depth\":20,\n",
        "    \"eta\":0.1,\n",
        "    \"eval_metric\":\"rmse\"\n",
        "}\n",
        "\n",
        "# Treinando o modelo\n",
        "model_n_scaled = xgb.train(params=params, dtrain=dtrain_scaled, num_boost_round=100)\n",
        "\n",
        "# Fazendo previsões no conjunto de teste\n",
        "preds_scaled = model_n_scaled.predict(dtest_scaled)"
      ],
      "metadata": {
        "id": "GDJ_d9l3XYb2"
      },
      "id": "GDJ_d9l3XYb2",
      "execution_count": null,
      "outputs": []
    },
    {
      "cell_type": "code",
      "source": [
        "# Avaliar o modelo\n",
        "mse_n_scaled = mean_squared_error(y_test, preds_scaled)\n",
        "r2_scaled = r2_score(y_test, preds_scaled)\n",
        "mae_n_scaled = mean_absolute_error(y_test, preds_scaled)\n",
        "\n",
        "print(\"Mean Squared Error: \", mse_n_scaled)\n",
        "print(\"R2 Score: \", r2_scaled)\n",
        "print(\"Mean Absolute Error: \", mae_n_scaled)"
      ],
      "metadata": {
        "colab": {
          "base_uri": "https://localhost:8080/"
        },
        "id": "Ggi2228yXkJ_",
        "outputId": "35219371-53b2-43f3-9564-e80deadbe069"
      },
      "id": "Ggi2228yXkJ_",
      "execution_count": null,
      "outputs": [
        {
          "output_type": "stream",
          "name": "stdout",
          "text": [
            "Mean Squared Error:  0.09624333056625436\n",
            "R2 Score:  0.997688414286095\n",
            "Mean Absolute Error:  0.1150129628115245\n"
          ]
        }
      ]
    },
    {
      "cell_type": "markdown",
      "source": [
        "##Robust Scaler: \n",
        "MSE 1.23\n",
        "R2 97%\n",
        "MAE 0.28\n",
        "##MinMax Scaler - Melhor resultado\n",
        "MSE 0.09\n",
        "R2 99,7%\n",
        "MAE 0.11\n",
        "##Standard Scaler\n",
        "MSE 1.94\n",
        "R2 95,3%\n",
        "MAE 0.35\n"
      ],
      "metadata": {
        "id": "o9ZPkgcie9Gy"
      },
      "id": "o9ZPkgcie9Gy"
    },
    {
      "cell_type": "code",
      "source": [
        "df_results = pd.DataFrame(y_test)\n",
        "df_results['Predicted'] = preds_scaled"
      ],
      "metadata": {
        "id": "xsty3n7zqLeO"
      },
      "id": "xsty3n7zqLeO",
      "execution_count": null,
      "outputs": []
    },
    {
      "cell_type": "code",
      "source": [
        "df_results['Erro'] = df_results['Yards']-df_results['Predicted']\n",
        "df_results"
      ],
      "metadata": {
        "colab": {
          "base_uri": "https://localhost:8080/",
          "height": 455
        },
        "id": "kyKtxid6CBKh",
        "outputId": "13d59190-9904-4993-81cd-f3bb199232df"
      },
      "id": "kyKtxid6CBKh",
      "execution_count": null,
      "outputs": [
        {
          "output_type": "execute_result",
          "data": {
            "text/plain": [
              "                           Yards  Predicted      Erro\n",
              "key                                                  \n",
              "2017111908-20171119081292      5   4.993236  0.006764\n",
              "2017120311-20171203111632      3   2.967730  0.032270\n",
              "2019092906-20190929060096      8   7.605905  0.394095\n",
              "2018092400-20180924002573     -2  -1.879058 -0.120942\n",
              "2019112400-20191124002227      1   1.026600 -0.026600\n",
              "...                          ...        ...       ...\n",
              "2019102003-20191020033879      6   5.975643  0.024357\n",
              "2019092900-20190929000845     16  15.960672  0.039328\n",
              "2019100602-20191006020780      2   2.005044 -0.005044\n",
              "2017091800-20170918003069      5   5.072619 -0.072619\n",
              "2017122406-20171224063620      4   3.968666  0.031334\n",
              "\n",
              "[204647 rows x 3 columns]"
            ],
            "text/html": [
              "\n",
              "  <div id=\"df-7a811f64-0459-4793-9296-934a52b2e555\">\n",
              "    <div class=\"colab-df-container\">\n",
              "      <div>\n",
              "<style scoped>\n",
              "    .dataframe tbody tr th:only-of-type {\n",
              "        vertical-align: middle;\n",
              "    }\n",
              "\n",
              "    .dataframe tbody tr th {\n",
              "        vertical-align: top;\n",
              "    }\n",
              "\n",
              "    .dataframe thead th {\n",
              "        text-align: right;\n",
              "    }\n",
              "</style>\n",
              "<table border=\"1\" class=\"dataframe\">\n",
              "  <thead>\n",
              "    <tr style=\"text-align: right;\">\n",
              "      <th></th>\n",
              "      <th>Yards</th>\n",
              "      <th>Predicted</th>\n",
              "      <th>Erro</th>\n",
              "    </tr>\n",
              "    <tr>\n",
              "      <th>key</th>\n",
              "      <th></th>\n",
              "      <th></th>\n",
              "      <th></th>\n",
              "    </tr>\n",
              "  </thead>\n",
              "  <tbody>\n",
              "    <tr>\n",
              "      <th>2017111908-20171119081292</th>\n",
              "      <td>5</td>\n",
              "      <td>4.993236</td>\n",
              "      <td>0.006764</td>\n",
              "    </tr>\n",
              "    <tr>\n",
              "      <th>2017120311-20171203111632</th>\n",
              "      <td>3</td>\n",
              "      <td>2.967730</td>\n",
              "      <td>0.032270</td>\n",
              "    </tr>\n",
              "    <tr>\n",
              "      <th>2019092906-20190929060096</th>\n",
              "      <td>8</td>\n",
              "      <td>7.605905</td>\n",
              "      <td>0.394095</td>\n",
              "    </tr>\n",
              "    <tr>\n",
              "      <th>2018092400-20180924002573</th>\n",
              "      <td>-2</td>\n",
              "      <td>-1.879058</td>\n",
              "      <td>-0.120942</td>\n",
              "    </tr>\n",
              "    <tr>\n",
              "      <th>2019112400-20191124002227</th>\n",
              "      <td>1</td>\n",
              "      <td>1.026600</td>\n",
              "      <td>-0.026600</td>\n",
              "    </tr>\n",
              "    <tr>\n",
              "      <th>...</th>\n",
              "      <td>...</td>\n",
              "      <td>...</td>\n",
              "      <td>...</td>\n",
              "    </tr>\n",
              "    <tr>\n",
              "      <th>2019102003-20191020033879</th>\n",
              "      <td>6</td>\n",
              "      <td>5.975643</td>\n",
              "      <td>0.024357</td>\n",
              "    </tr>\n",
              "    <tr>\n",
              "      <th>2019092900-20190929000845</th>\n",
              "      <td>16</td>\n",
              "      <td>15.960672</td>\n",
              "      <td>0.039328</td>\n",
              "    </tr>\n",
              "    <tr>\n",
              "      <th>2019100602-20191006020780</th>\n",
              "      <td>2</td>\n",
              "      <td>2.005044</td>\n",
              "      <td>-0.005044</td>\n",
              "    </tr>\n",
              "    <tr>\n",
              "      <th>2017091800-20170918003069</th>\n",
              "      <td>5</td>\n",
              "      <td>5.072619</td>\n",
              "      <td>-0.072619</td>\n",
              "    </tr>\n",
              "    <tr>\n",
              "      <th>2017122406-20171224063620</th>\n",
              "      <td>4</td>\n",
              "      <td>3.968666</td>\n",
              "      <td>0.031334</td>\n",
              "    </tr>\n",
              "  </tbody>\n",
              "</table>\n",
              "<p>204647 rows × 3 columns</p>\n",
              "</div>\n",
              "      <button class=\"colab-df-convert\" onclick=\"convertToInteractive('df-7a811f64-0459-4793-9296-934a52b2e555')\"\n",
              "              title=\"Convert this dataframe to an interactive table.\"\n",
              "              style=\"display:none;\">\n",
              "        \n",
              "  <svg xmlns=\"http://www.w3.org/2000/svg\" height=\"24px\"viewBox=\"0 0 24 24\"\n",
              "       width=\"24px\">\n",
              "    <path d=\"M0 0h24v24H0V0z\" fill=\"none\"/>\n",
              "    <path d=\"M18.56 5.44l.94 2.06.94-2.06 2.06-.94-2.06-.94-.94-2.06-.94 2.06-2.06.94zm-11 1L8.5 8.5l.94-2.06 2.06-.94-2.06-.94L8.5 2.5l-.94 2.06-2.06.94zm10 10l.94 2.06.94-2.06 2.06-.94-2.06-.94-.94-2.06-.94 2.06-2.06.94z\"/><path d=\"M17.41 7.96l-1.37-1.37c-.4-.4-.92-.59-1.43-.59-.52 0-1.04.2-1.43.59L10.3 9.45l-7.72 7.72c-.78.78-.78 2.05 0 2.83L4 21.41c.39.39.9.59 1.41.59.51 0 1.02-.2 1.41-.59l7.78-7.78 2.81-2.81c.8-.78.8-2.07 0-2.86zM5.41 20L4 18.59l7.72-7.72 1.47 1.35L5.41 20z\"/>\n",
              "  </svg>\n",
              "      </button>\n",
              "      \n",
              "  <style>\n",
              "    .colab-df-container {\n",
              "      display:flex;\n",
              "      flex-wrap:wrap;\n",
              "      gap: 12px;\n",
              "    }\n",
              "\n",
              "    .colab-df-convert {\n",
              "      background-color: #E8F0FE;\n",
              "      border: none;\n",
              "      border-radius: 50%;\n",
              "      cursor: pointer;\n",
              "      display: none;\n",
              "      fill: #1967D2;\n",
              "      height: 32px;\n",
              "      padding: 0 0 0 0;\n",
              "      width: 32px;\n",
              "    }\n",
              "\n",
              "    .colab-df-convert:hover {\n",
              "      background-color: #E2EBFA;\n",
              "      box-shadow: 0px 1px 2px rgba(60, 64, 67, 0.3), 0px 1px 3px 1px rgba(60, 64, 67, 0.15);\n",
              "      fill: #174EA6;\n",
              "    }\n",
              "\n",
              "    [theme=dark] .colab-df-convert {\n",
              "      background-color: #3B4455;\n",
              "      fill: #D2E3FC;\n",
              "    }\n",
              "\n",
              "    [theme=dark] .colab-df-convert:hover {\n",
              "      background-color: #434B5C;\n",
              "      box-shadow: 0px 1px 3px 1px rgba(0, 0, 0, 0.15);\n",
              "      filter: drop-shadow(0px 1px 2px rgba(0, 0, 0, 0.3));\n",
              "      fill: #FFFFFF;\n",
              "    }\n",
              "  </style>\n",
              "\n",
              "      <script>\n",
              "        const buttonEl =\n",
              "          document.querySelector('#df-7a811f64-0459-4793-9296-934a52b2e555 button.colab-df-convert');\n",
              "        buttonEl.style.display =\n",
              "          google.colab.kernel.accessAllowed ? 'block' : 'none';\n",
              "\n",
              "        async function convertToInteractive(key) {\n",
              "          const element = document.querySelector('#df-7a811f64-0459-4793-9296-934a52b2e555');\n",
              "          const dataTable =\n",
              "            await google.colab.kernel.invokeFunction('convertToInteractive',\n",
              "                                                     [key], {});\n",
              "          if (!dataTable) return;\n",
              "\n",
              "          const docLinkHtml = 'Like what you see? Visit the ' +\n",
              "            '<a target=\"_blank\" href=https://colab.research.google.com/notebooks/data_table.ipynb>data table notebook</a>'\n",
              "            + ' to learn more about interactive tables.';\n",
              "          element.innerHTML = '';\n",
              "          dataTable['output_type'] = 'display_data';\n",
              "          await google.colab.output.renderOutput(dataTable, element);\n",
              "          const docLink = document.createElement('div');\n",
              "          docLink.innerHTML = docLinkHtml;\n",
              "          element.appendChild(docLink);\n",
              "        }\n",
              "      </script>\n",
              "    </div>\n",
              "  </div>\n",
              "  "
            ]
          },
          "metadata": {},
          "execution_count": 56
        }
      ]
    },
    {
      "cell_type": "code",
      "source": [
        "# Plot do gráfico de resíduos do modelo.\n",
        "residuals = y_test - preds_scaled\n",
        "\n",
        "# Plotar o gráfico de resíduos\n",
        "fig = plt.figure(figsize=(8, 6))\n",
        "plt.scatter(preds_scaled, residuals)\n",
        "plt.xlabel('Previsões')\n",
        "plt.ylabel('Resíduos')\n",
        "plt.axhline(y=0, color='r', linestyle='-')\n",
        "plt.title('Gráfico de Resíduos')\n",
        "plt.show()"
      ],
      "metadata": {
        "colab": {
          "base_uri": "https://localhost:8080/",
          "height": 404
        },
        "id": "hH0aCEAJCO9j",
        "outputId": "d6d093cd-244f-4206-d1f9-bf8bfdc0648c"
      },
      "id": "hH0aCEAJCO9j",
      "execution_count": null,
      "outputs": [
        {
          "output_type": "display_data",
          "data": {
            "text/plain": [
              "<Figure size 576x432 with 1 Axes>"
            ],
            "image/png": "[encoded data removed]"
          },
          "metadata": {
            "needs_background": "light"
          }
        }
      ]
    },
    {
      "cell_type": "code",
      "source": [
        "#Grafico de importância de features\n",
        "fig = plt.figure(figsize=(20, 15))\n",
        "xgb.plot_importance(model_n_scaled, ax=plt.gca())\n",
        "plt.title(\"Importância de Features\")\n",
        "plt.show()"
      ],
      "metadata": {
        "id": "4T6KTOrCFExq",
        "colab": {
          "base_uri": "https://localhost:8080/",
          "height": 893
        },
        "outputId": "2049dab6-4d7a-48f1-ed0c-a828e29fad3a"
      },
      "id": "4T6KTOrCFExq",
      "execution_count": null,
      "outputs": [
        {
          "output_type": "display_data",
          "data": {
            "text/plain": [
              "<Figure size 1440x1080 with 1 Axes>"
            ],
            "image/png": "[encoded data removed]"
          },
          "metadata": {
            "needs_background": "light"
          }
        }
      ]
    },
    {
      "cell_type": "code",
      "source": [
        "#Distribuição de jardas entre dados de teste e predições\n",
        "graphs = []\n",
        "ax = sns.distplot(preds_scaled,)\n",
        "ax = sns.distplot(y_test.values)\n",
        "plt.legend(labels=[\"Predicted\",\"Yards\"])\n",
        "plt.title('Distribuição (Predicted x Yards)')\n",
        "plt.xlabel('Yards')\n",
        "ax.figure.set_size_inches(12,8)"
      ],
      "metadata": {
        "colab": {
          "base_uri": "https://localhost:8080/",
          "height": 513
        },
        "id": "okV2QZsIsPNZ",
        "outputId": "b81d1aca-b8d4-449b-bbcd-dc314635a262"
      },
      "id": "okV2QZsIsPNZ",
      "execution_count": null,
      "outputs": [
        {
          "output_type": "display_data",
          "data": {
            "text/plain": [
              "<Figure size 864x576 with 1 Axes>"
            ],
            "image/png": "[encoded data removed]"
          },
          "metadata": {
            "needs_background": "light"
          }
        }
      ]
    },
    {
      "cell_type": "markdown",
      "source": [
        "##LightGBM"
      ],
      "metadata": {
        "id": "JpBvaVqFqtSi"
      },
      "id": "JpBvaVqFqtSi"
    },
    {
      "cell_type": "code",
      "execution_count": null,
      "metadata": {
        "id": "_n8mCC-T-GxG",
        "colab": {
          "base_uri": "https://localhost:8080/"
        },
        "outputId": "eb4dbe3d-a1b9-4e71-fcdf-473eca950825"
      },
      "outputs": [
        {
          "output_type": "stream",
          "name": "stdout",
          "text": [
            "Mean Squared Error:  8.5610205403529\n",
            "R2 Score:  0.7941521572905488\n"
          ]
        }
      ],
      "source": [
        "import lightgbm as lgb\n",
        "\n",
        "params = {\n",
        "    'objective': 'regression',\n",
        "    'metric': 'rmse',\n",
        "    'num_leaves': 100,\n",
        "    'learning_rate': 0.05,\n",
        "    'feature_fraction': 0.9\n",
        "}\n",
        "\n",
        "train_data = lgb.Dataset(X_train_scaled, label=y_train)\n",
        "test_data = lgb.Dataset(X_test_scaled, label=y_test)\n",
        "model_gbm = lgb.train(params, train_data, num_boost_round=100)\n",
        "\n",
        "preds_gbm = model_gbm.predict(X_test_scaled)\n",
        "\n",
        "\n",
        "# Avaliar o modelo\n",
        "mse_gbm = mean_squared_error(y_test, preds_gbm)\n",
        "r2_gbm = r2_score(y_test, preds_gbm)\n",
        "\n",
        "print(\"Mean Squared Error: \", mse_gbm)\n",
        "print(\"R2 Score: \", r2_gbm)"
      ],
      "id": "_n8mCC-T-GxG"
    },
    {
      "cell_type": "code",
      "source": [],
      "metadata": {
        "id": "Wb0NAErzmDLW"
      },
      "id": "Wb0NAErzmDLW",
      "execution_count": null,
      "outputs": []
    }
  ],
  "metadata": {
    "accelerator": "GPU",
    "colab": {
      "provenance": [],
      "toc_visible": true
    },
    "gpuClass": "standard",
    "kernelspec": {
      "display_name": "Python 3",
      "language": "python",
      "name": "python3"
    },
    "language_info": {
      "codemirror_mode": {
        "name": "ipython",
        "version": 3
      },
      "file_extension": ".py",
      "mimetype": "text/x-python",
      "name": "python",
      "nbconvert_exporter": "python",
      "pygments_lexer": "ipython3",
      "version": "3.8.8"
    }
  },
  "nbformat": 4,
  "nbformat_minor": 5
}